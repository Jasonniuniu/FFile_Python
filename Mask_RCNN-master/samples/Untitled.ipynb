{
 "cells": [
  {
   "cell_type": "code",
   "execution_count": 1,
   "metadata": {},
   "outputs": [
    {
     "name": "stdout",
     "output_type": "stream",
     "text": [
      "\n",
      "Please wait a moment while I gather a list of all available modules...\n",
      "\n"
     ]
    },
    {
     "name": "stderr",
     "output_type": "stream",
     "text": [
      "F:\\Program_Files\\Anaconda\\lib\\site-packages\\IPython\\kernel\\__init__.py:13: ShimWarning: The `IPython.kernel` package has been deprecated since IPython 4.0.You should import from ipykernel or jupyter_client instead.\n",
      "  \"You should import from ipykernel or jupyter_client instead.\", ShimWarning)\n",
      "WARNING: AstropyDeprecationWarning: The astropy.vo.samp module has now been moved to astropy.samp [astropy.vo.samp]\n",
      "F:\\Program_Files\\Anaconda\\lib\\site-packages\\odo\\backends\\pandas.py:102: FutureWarning: pandas.tslib is deprecated and will be removed in a future version.\n",
      "You can access NaTType as type(pandas.NaT)\n",
      "  @convert.register((pd.Timestamp, pd.Timedelta), (pd.tslib.NaTType, type(None)))\n"
     ]
    },
    {
     "name": "stdout",
     "output_type": "stream",
     "text": [
      "█\r"
     ]
    },
    {
     "name": "stderr",
     "output_type": "stream",
     "text": [
      "F:\\Program_Files\\Anaconda\\lib\\site-packages\\nltk\\twitter\\__init__.py:20: UserWarning: The twython library has not been installed. Some functionality from the twitter package will not be available.\n",
      "  warnings.warn(\"The twython library has not been installed. \"\n",
      "F:\\Program_Files\\Anaconda\\lib\\site-packages\\skimage\\viewer\\utils\\core.py:10: UserWarning: Recommended matplotlib backend is `Agg` for full skimage.viewer functionality.\n",
      "  warn(\"Recommended matplotlib backend is `Agg` for full \"\n",
      "F:\\Program_Files\\Anaconda\\lib\\site-packages\\qtawesome\\iconic_font.py:268: UserWarning: You need to have a running QApplication to use QtAwesome!\n",
      "  warnings.warn(\"You need to have a running \"\n",
      "F:\\Program_Files\\Anaconda\\lib\\site-packages\\statsmodels\\compat\\pandas.py:56: FutureWarning: The pandas.core.datetools module is deprecated and will be removed in a future version. Please use the pandas.tseries module instead.\n",
      "  from pandas.core import datetools\n"
     ]
    },
    {
     "name": "stdout",
     "output_type": "stream",
     "text": [
      "_cffi_ext.c\n",
      "F:\\Program_Files\\Anaconda\\lib\\site-packages\\zmq\\backend\\cffi\\__pycache__\\_cffi_ext.c(209): fatal error C1083: 无法打开包括文件: “sys/un.h”: No such file or directory\n",
      "CV_Object           cffi                mistune             spyder_breakpoints\n",
      "Crypto              cgi                 mkl                 spyder_io_dcm\n",
      "Cython              cgitb               mmap                spyder_io_hdf5\n",
      "IPython             chardet             mmapfile            spyder_profiler\n",
      "OleFileIO_PL        chatterbot          mmsystem            spyder_pylint\n",
      "OpenSSL             chatterbot_corpus   model               sqlalchemy\n",
      "PIL                 chunk               modulefinder        sqlite3\n",
      "PyQt5               click               mpmath              sre_compile\n",
      "Ui_CV_Object        cloudpickle         msgpack             sre_constants\n",
      "Video               clyent              msilib              sre_parse\n",
      "__future__          cmath               msvcrt              ssl\n",
      "_ast                cmd                 multipledispatch    sspi\n",
      "_asyncio            code                multiprocessing     sspicon\n",
      "_bisect             codecs              navigator_updater   stat\n",
      "_blake2             codeop              nbconvert           statistics\n",
      "_bootlocale         collections         nbformat            statsmodels\n",
      "_bz2                colorama            netbios             storemagic\n",
      "_cffi_backend       colorsys            netrc               string\n",
      "_codecs             commctrl            networkx            stringprep\n",
      "_codecs_cn          compileall          nltk                struct\n",
      "_codecs_hk          comtypes            nntplib             subprocess\n",
      "_codecs_iso2022     concurrent          nose                sunau\n",
      "_codecs_jp          conda               notebook            symbol\n",
      "_codecs_kr          conda_build         nt                  sympy\n",
      "_codecs_tw          conda_env           ntpath              sympyprinting\n",
      "_collections        conda_verify        ntsecuritycon       symtable\n",
      "_collections_abc    configparser        nturl2path          sys\n",
      "_compat_pickle      contextlib          numba               sysconfig\n",
      "_compression        contextlib2         numbers             tables\n",
      "_csv                convert             numexpr             tabnanny\n",
      "_ctypes             copy                numpy               tarfile\n",
      "_ctypes_test        copyreg             numpydoc            tblib\n",
      "_datetime           crypt               oauthlib            telnetlib\n",
      "_decimal            cryptography        odbc                tempfile\n",
      "_dummy_thread       csv                 odo                 tensorboard\n",
      "_elementtree        ctypes              olefile             tensorflow\n",
      "_findvs             curl                opcode              test\n",
      "_functools          curses              openpyxl            test_path\n",
      "_hashlib            cwp                 operator            test_pycosat\n",
      "_heapq              cycler              optparse            testpath\n",
      "_imp                cython              os                  tests\n",
      "_io                 cythonmagic         packaging           textwrap\n",
      "_json               cytoolz             pandas              this\n",
      "_license            dask                pandocfilters       threading\n",
      "_locale             datashape           parser              time\n",
      "_lsprof             datetime            partd               timeit\n",
      "_lzma               dateutil            past                timer\n",
      "_markupbase         dbi                 path                tkinter\n",
      "_md5                dbm                 pathlib             tlz\n",
      "_msi                dde                 pathlib2            token\n",
      "_multibytecodec     decimal             patsy               tokenize\n",
      "_multiprocessing    decorator           pdb                 toolz\n",
      "_nsis               difflib             pep8                tornado\n",
      "_opcode             dis                 perfmon             trace\n",
      "_operator           distlib             pickle              traceback\n",
      "_osx_support        distributed         pickleshare         tracemalloc\n",
      "_overlapped         distutils           pickletools         traitlets\n",
      "_pickle             doctest             pip                 tty\n",
      "_pydecimal          docutils            pipes               turtle\n",
      "_pyio               dummy_threading     pkg_resources       turtledemo\n",
      "_pytest             easy_install        pkginfo             twitter\n",
      "_random             email               pkgutil             types\n",
      "_sha1               encodings           platform            typing\n",
      "_sha256             entrypoints         plistlib            unicodecsv\n",
      "_sha3               enum                ply                 unicodedata\n",
      "_sha512             errno               png                 unittest\n",
      "_signal             et_xmlfile          poplib              urllib\n",
      "_sitebuiltins       fastcache           posixpath           urllib3\n",
      "_socket             faulthandler        pprint              utils\n",
      "_sqlite3            filecmp             profile             uu\n",
      "_sre                fileinput           progress            uuid\n",
      "_ssl                filelock            prompt_toolkit      venv\n",
      "_stat               flask               pstats              warnings\n",
      "_string             flask_cors          psutil              wave\n",
      "_strptime           fnmatch             pty                 wcwidth\n",
      "_struct             formatter           py                  weakref\n",
      "_symtable           fractions           py_compile          webbrowser\n",
      "_system_path        ftplib              pyclbr              webencodings\n",
      "_testbuffer         functools           pycodestyle         werkzeug\n",
      "_testcapi           future              pycosat             wheel\n",
      "_testconsole        gc                  pycparser           widgetsnbextension\n",
      "_testimportmultiple genericpath         pycurl              win2kras\n",
      "_testmultiphase     getopt              pydoc               win32api\n",
      "_thread             getpass             pydoc_data          win32clipboard\n",
      "_threading_local    gettext             pyecharts           win32com\n",
      "_tkinter            gevent              pyecharts_jupyter_installer win32con\n",
      "_tracemalloc        glob                pyexpat             win32console\n",
      "_warnings           glob2               pyflakes            win32cred\n",
      "_weakref            greenlet            pygments            win32crypt\n",
      "_weakrefset         gridfs              pylab               win32cryptcon\n",
      "_win32sysloader     gzip                pylint              win32event\n",
      "_winapi             h5py                pymongo             win32evtlog\n",
      "_winxptheme         hashlib             pyodbc              win32evtlogutil\n",
      "_yaml               heapdict            pyparsing           win32file\n",
      "abc                 heapq               pyqrcode            win32gui\n",
      "adodbapi            hmac                pytest              win32gui_struct\n",
      "afxres              html                pythoncom           win32help\n",
      "aifc                html5lib            pytz                win32inet\n",
      "alabaster           http                pywin               win32inetcon\n",
      "anaconda_navigator  idlelib             pywin32_testutil    win32job\n",
      "anaconda_project    idna                pywintypes          win32lz\n",
      "antigravity         image_rc            pywt                win32net\n",
      "argparse            imageio             pyximport           win32netcon\n",
      "array               imagesize           qtawesome           win32pdh\n",
      "asn1crypto          imaplib             qtconsole           win32pdhquery\n",
      "ast                 imghdr              qtpy                win32pdhutil\n",
      "astroid             imp                 queue               win32pipe\n",
      "astropy             importlib           quopri              win32print\n",
      "asynchat            inspect             random              win32process\n",
      "asyncio             io                  rasutil             win32profile\n",
      "asyncore            ipaddress           re                  win32ras\n",
      "atexit              ipykernel           regcheck            win32rcparser\n",
      "audioop             ipykernel_launcher  regutil             win32security\n",
      "autoreload          ipython_genutils    reprlib             win32service\n",
      "babel               ipywidgets          requests            win32serviceutil\n"
     ]
    },
    {
     "name": "stdout",
     "output_type": "stream",
     "text": [
      "backports           isapi               requests_oauthlib   win32timezone\n",
      "base64              isort               rlcompleter         win32trace\n",
      "bdb                 itchat              rmagic              win32traceutil\n",
      "binascii            itertools           rope                win32transaction\n",
      "binhex              itsdangerous        ruamel_yaml         win32ts\n",
      "binstar_client      jdcal               run                 win32ui\n",
      "bisect              jedi                runpy               win32uiole\n",
      "bitarray            jinja2              sched               win32verstamp\n",
      "bkcharts            json                scipy               win32wnet\n",
      "blaze               jsonschema          scripts             win_inet_pton\n",
      "bleach              jupyter             seaborn             win_unicode_console\n",
      "bokeh               jupyter_client      secrets             wincertstore\n",
      "boto                jupyter_console     select              winerror\n",
      "bottleneck          jupyter_core        selectors           winioctlcon\n",
      "brain_builtin_inference jupyter_echarts_pypkg servicemanager      winnt\n",
      "brain_collections   jupyterlab          setup               winperf\n",
      "brain_dateutil      jupyterlab_launcher setuptools          winreg\n",
      "brain_fstrings      keyword             shelve              winsound\n",
      "brain_functools     lazy_object_proxy   shlex               winxpgui\n",
      "brain_gi            lib2to3             shutil              winxptheme\n",
      "brain_hashlib       libfuturize         signal              wrapt\n",
      "brain_io            libpasteurize       simplegeneric       wsgiref\n",
      "brain_mechanize     linecache           singledispatch      wxpy\n",
      "brain_multiprocessing llvmlite            singledispatch_helpers xdrlib\n",
      "brain_namedtuple_enum lml                 sip                 xlrd\n",
      "brain_nose          locale              sipconfig           xlsxwriter\n",
      "brain_numpy         locket              sipdistutils        xlwings\n",
      "brain_pkg_resources lockfile            site                xlwt\n",
      "brain_pytest        logging             six                 xml\n",
      "brain_qt            lxml                skimage             xmlrpc\n",
      "brain_re            lzma                sklearn             xxsubtype\n",
      "brain_six           macpath             smtpd               yad2k\n",
      "brain_ssl           macurl2path         smtplib             yaml\n",
      "brain_subprocess    mailbox             sndhdr              yolo\n",
      "brain_threading     mailcap             snowballstemmer     yolo3\n",
      "brain_typing        markdown            socket              yolo_video\n",
      "bs4                 markupsafe          socketserver        zict\n",
      "bson                marshal             socks               zipapp\n",
      "builtins            math                sockshandler        zipfile\n",
      "bz2                 mathparse           sortedcollections   zipimport\n",
      "cProfile            matplotlib          sortedcontainers    zlib\n",
      "cachecontrol        mccabe              sphinx              zmq\n",
      "calendar            menuinst            sphinxcontrib       \n",
      "certifi             mimetypes           spyder              \n",
      "\n",
      "Enter any module name to get more help.  Or, type \"modules spam\" to search\n",
      "for modules whose name or summary contain the string \"spam\".\n",
      "\n"
     ]
    }
   ],
   "source": [
    "help('modules')"
   ]
  },
  {
   "cell_type": "code",
   "execution_count": 5,
   "metadata": {},
   "outputs": [],
   "source": [
    "import sys\n",
    "sys.path                            #输出python的搜索模块的路径集  \n",
    "sys.path.append('F:\\\\Program Files\\\\Python\\\\Python36\\\\Lib\\\\site-packages')"
   ]
  },
  {
   "cell_type": "code",
   "execution_count": 6,
   "metadata": {},
   "outputs": [
    {
     "name": "stdout",
     "output_type": "stream",
     "text": [
      "['F:\\\\Program_Files\\\\Anaconda\\\\lib\\\\site-packages\\\\spyder\\\\utils\\\\help', '', 'F:\\\\Program Files\\\\Python\\\\Python36\\\\Lib\\\\site-packages\\\\keras_yolo3\\\\keras-yolo3', 'F:\\\\Program Files\\\\Python\\\\Python36\\\\Lib\\\\site-packages\\\\keras_yolo3\\\\keras-yolo3\\\\yolo3', 'F:\\\\Program_Files\\\\Anaconda\\\\python36.zip', 'F:\\\\Program_Files\\\\Anaconda\\\\DLLs', 'F:\\\\Program_Files\\\\Anaconda\\\\lib', 'F:\\\\Program_Files\\\\Anaconda', 'F:\\\\Program_Files\\\\Anaconda\\\\lib\\\\site-packages', 'F:\\\\Program_Files\\\\Anaconda\\\\lib\\\\site-packages\\\\Babel-2.5.0-py3.6.egg', 'F:\\\\Program_Files\\\\Anaconda\\\\lib\\\\site-packages\\\\win32', 'F:\\\\Program_Files\\\\Anaconda\\\\lib\\\\site-packages\\\\win32\\\\lib', 'F:\\\\Program_Files\\\\Anaconda\\\\lib\\\\site-packages\\\\Pythonwin', 'F:\\\\Program_Files\\\\Anaconda\\\\lib\\\\site-packages\\\\IPython\\\\extensions', 'C:\\\\Users\\\\99386\\\\.ipython', 'F:\\\\Program_Files\\\\Anaconda\\\\lib\\\\site-packages\\\\astroid\\\\brain', 'F:\\\\Program Files\\\\Python\\\\Python36\\\\Lib\\\\site-packages', 'F:\\\\Program Files\\\\Python\\\\Python36\\\\Lib\\\\site-packages']\n"
     ]
    }
   ],
   "source": [
    "print(sys.path )"
   ]
  },
  {
   "cell_type": "code",
   "execution_count": null,
   "metadata": {
    "collapsed": true
   },
   "outputs": [],
   "source": []
  }
 ],
 "metadata": {
  "kernelspec": {
   "display_name": "Python 3",
   "language": "python",
   "name": "python3"
  },
  "language_info": {
   "codemirror_mode": {
    "name": "ipython",
    "version": 3
   },
   "file_extension": ".py",
   "mimetype": "text/x-python",
   "name": "python",
   "nbconvert_exporter": "python",
   "pygments_lexer": "ipython3",
   "version": "3.6.3"
  }
 },
 "nbformat": 4,
 "nbformat_minor": 2
}
